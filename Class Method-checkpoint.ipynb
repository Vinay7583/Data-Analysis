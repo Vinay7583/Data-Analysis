{
 "cells": [
  {
   "cell_type": "code",
   "execution_count": 112,
   "id": "175dde62-4230-4505-a379-e83cda4eca2e",
   "metadata": {},
   "outputs": [],
   "source": [
    "class Account:\n",
    "    def __init__(self,cust_acc,cust_name,cust_age,cust_balance):\n",
    "        self.acc=cust_acc\n",
    "        self.name=cust_name\n",
    "        self.age=cust_age\n",
    "        self.__balance=cust_balance \n",
    "        self.min_tx=0\n",
    "        self.max_tx=5\n",
    "    def deposit(self,amount):\n",
    "        if self.min_tx < self.max_tx:\n",
    "            if amount>0:\n",
    "                self.__balance=self.__balance+amount\n",
    "                print(f\"Your total balance {self.__balance}\")\n",
    "                self.min_tx=self.min_tx+1\n",
    "            else:\n",
    "                print(\"Enter amount greater than 0\")\n",
    "        else:\n",
    "            print(\"Transction Limit recharges\")\n",
    "    def withdraw(self,amount):\n",
    "        if self.min_tx < self.max_tx:\n",
    "            if amount>0 and amount <= self.__balance:\n",
    "               self.__balance = self.__balance-amount\n",
    "               print(f\"Your total balance {self.__balance}\")\n",
    "               self.min_tx=self.min_tx+1\n",
    "            else:\n",
    "                print(\"Enter amount greater than 0\")\n",
    "        elif amount > self.__balance:\n",
    "            print(\"Insufficient Balance\")\n",
    "        else:\n",
    "            print(\"Transction Limit Reach\")\n",
    "    def get_balance(self):\n",
    "        balance=self.__balance\n",
    "        return f\"Your balance is {self.__balance}\"\n",
    "    def interest(self):\n",
    "        return self.__balance*0.04\n",
    "    def __str__(self):\n",
    "        return f\"Your account no {self.acc} and your name {self.name} and balance {self.__balance}\""
   ]
  },
  {
   "cell_type": "code",
   "execution_count": 90,
   "id": "f0659676-a744-4d91-a780-5b28cecefc1c",
   "metadata": {},
   "outputs": [
    {
     "name": "stdout",
     "output_type": "stream",
     "text": [
      "Your account no 100 and your name vinay and balance 30000\n"
     ]
    }
   ],
   "source": [
    "Acc1 = Account(100,\"vinay\",18,30000)\n",
    "print(Acc1)"
   ]
  },
  {
   "cell_type": "code",
   "execution_count": 91,
   "id": "7e34b58b-584c-4694-9468-92b03c4d1ad4",
   "metadata": {},
   "outputs": [
    {
     "data": {
      "text/plain": [
       "'Your balance is 30000'"
      ]
     },
     "execution_count": 91,
     "metadata": {},
     "output_type": "execute_result"
    }
   ],
   "source": [
    "Acc1.get_balance()"
   ]
  },
  {
   "cell_type": "code",
   "execution_count": 92,
   "id": "d3afecea-391f-411e-ac84-fe8f203a2d25",
   "metadata": {},
   "outputs": [
    {
     "name": "stdout",
     "output_type": "stream",
     "text": [
      "Your total balance 29900\n"
     ]
    }
   ],
   "source": [
    "Acc1.withdraw(100)"
   ]
  },
  {
   "cell_type": "code",
   "execution_count": 93,
   "id": "560404dc-3d03-4f85-98c3-37b84759932b",
   "metadata": {},
   "outputs": [
    {
     "name": "stdout",
     "output_type": "stream",
     "text": [
      "Your total balance 30000\n"
     ]
    }
   ],
   "source": [
    "Acc1.deposit(100)"
   ]
  },
  {
   "cell_type": "code",
   "execution_count": 96,
   "id": "452222b7-b770-4880-98a3-feb8413b4e74",
   "metadata": {},
   "outputs": [
    {
     "data": {
      "text/plain": [
       "1200.0"
      ]
     },
     "execution_count": 96,
     "metadata": {},
     "output_type": "execute_result"
    }
   ],
   "source": [
    "Acc1.interest()"
   ]
  },
  {
   "cell_type": "code",
   "execution_count": 150,
   "id": "dd63a4c1-48d0-45a9-aa75-1e562cf600db",
   "metadata": {},
   "outputs": [],
   "source": [
    "class Saving_Account(Account):\n",
    "    def __init__(self,cust_acc,cust_name,cust_age,cust_balance):\n",
    "        super().__init__(cust_acc,cust_name,cust_age,cust_balance)\n",
    "        self.max_tx=7\n",
    "    def interest(self):\n",
    "        balance=float(super().get_balance().split(\" \")[-1]) ## Get parent class private object in child class\n",
    "        return balance*0.04"
   ]
  },
  {
   "cell_type": "code",
   "execution_count": 147,
   "id": "a1e6c43e-6194-481e-8e18-7c9b18d28724",
   "metadata": {},
   "outputs": [
    {
     "name": "stdout",
     "output_type": "stream",
     "text": [
      "Your account no 101 and your name vijay and balance 25000\n"
     ]
    }
   ],
   "source": [
    "Acc1_sav= Saving_Account(101,\"vijay\",18,25000)\n",
    "print(Acc1_sav)"
   ]
  },
  {
   "cell_type": "code",
   "execution_count": 148,
   "id": "f5bb47b5-79c6-444d-bfb7-98dfecf24b02",
   "metadata": {},
   "outputs": [
    {
     "name": "stdout",
     "output_type": "stream",
     "text": [
      "Your total balance 24000\n"
     ]
    }
   ],
   "source": [
    "Acc1_sav.withdraw(1000)"
   ]
  },
  {
   "cell_type": "code",
   "execution_count": 149,
   "id": "383ec5f5-55f2-4b04-a8d9-7b642b1e5310",
   "metadata": {},
   "outputs": [
    {
     "data": {
      "text/plain": [
       "960.0"
      ]
     },
     "execution_count": 149,
     "metadata": {},
     "output_type": "execute_result"
    }
   ],
   "source": [
    "Acc1_sav.interest()"
   ]
  },
  {
   "cell_type": "code",
   "execution_count": 58,
   "id": "ae449544-c9d1-4e02-8c31-1bff66c2a1a6",
   "metadata": {},
   "outputs": [],
   "source": [
    "class Current_Account(Account):\n",
    "    def __init__(self,cust_acc,cust_name,cust_age,cust_balance):\n",
    "        super().__init__(cust_acc,cust_name,cust_age,cust_balance)\n",
    "        self.max_tx=3"
   ]
  },
  {
   "cell_type": "code",
   "execution_count": 59,
   "id": "e5bd72b5-e8de-477e-8c34-fe3c080e6db1",
   "metadata": {},
   "outputs": [
    {
     "name": "stdout",
     "output_type": "stream",
     "text": [
      "Your account no 100 and your name vinay and balance 100000\n"
     ]
    }
   ],
   "source": [
    "Acc1_curr= Current_Account(100,\"vinay\",25,100000)\n",
    "print(Acc1_curr)"
   ]
  },
  {
   "cell_type": "code",
   "execution_count": 63,
   "id": "ea54c39e-e23f-45d4-9f7d-d845377517f5",
   "metadata": {},
   "outputs": [
    {
     "name": "stdout",
     "output_type": "stream",
     "text": [
      "Transction Limit recharges\n"
     ]
    }
   ],
   "source": [
    "Acc1_curr.deposit(100)"
   ]
  },
  {
   "cell_type": "code",
   "execution_count": 30,
   "id": "80522974-d0ce-4f8e-92d5-566a485f6c8a",
   "metadata": {},
   "outputs": [],
   "source": [
    "class Salary_Account(Account):\n",
    "    def __init__(self,cust_acc,cust_name,cust_age,cust_balance):\n",
    "        super().__init__(cust_acc,cust_name,cust_age,cust_balance)\n",
    "        self.max_tx=15"
   ]
  },
  {
   "cell_type": "code",
   "execution_count": 32,
   "id": "66af8858-d0c3-4757-a161-77ac4d06d4e2",
   "metadata": {},
   "outputs": [
    {
     "name": "stdout",
     "output_type": "stream",
     "text": [
      "Your account no 100 and your name vinay and balance 100000\n"
     ]
    }
   ],
   "source": [
    "Acc1_sal= Salary_Account(100,\"vinay\",25,100000)\n",
    "print(Acc1_sal)"
   ]
  }
 ],
 "metadata": {
  "kernelspec": {
   "display_name": "Python 3 (ipykernel)",
   "language": "python",
   "name": "python3"
  },
  "language_info": {
   "codemirror_mode": {
    "name": "ipython",
    "version": 3
   },
   "file_extension": ".py",
   "mimetype": "text/x-python",
   "name": "python",
   "nbconvert_exporter": "python",
   "pygments_lexer": "ipython3",
   "version": "3.12.7"
  }
 },
 "nbformat": 4,
 "nbformat_minor": 5
}
