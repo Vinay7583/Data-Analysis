{
 "cells": [
  {
   "cell_type": "code",
   "execution_count": 1,
   "id": "80f9657d-13ea-488b-b07a-884a5dffd031",
   "metadata": {},
   "outputs": [],
   "source": [
    "import os"
   ]
  },
  {
   "cell_type": "code",
   "execution_count": 3,
   "id": "0533c518-dd91-4b1b-9991-144399a04817",
   "metadata": {},
   "outputs": [
    {
     "name": "stdout",
     "output_type": "stream",
     "text": [
      "Hello this is python programming\n"
     ]
    }
   ],
   "source": [
    "## It reads file\n",
    "Hello = open(\"C:/Users/vinay soni/Downloads/Hello.txt\", \"r\")\n",
    "print(Hello.read())\n",
    "Hello.close()"
   ]
  },
  {
   "cell_type": "code",
   "execution_count": 4,
   "id": "bc7e4035-3035-4d90-9921-71e5d0721edd",
   "metadata": {},
   "outputs": [
    {
     "name": "stdout",
     "output_type": "stream",
     "text": [
      "Hello t\n"
     ]
    }
   ],
   "source": [
    "## it reads file\n",
    "Hello = open(\"C:/Users/vinay soni/Downloads/Hello.txt\", \"r\")\n",
    "print(Hello.readline(7))\n",
    "Hello.close()"
   ]
  },
  {
   "cell_type": "code",
   "execution_count": 5,
   "id": "f6a8d096-589c-4727-a18b-57eadaffa03e",
   "metadata": {},
   "outputs": [
    {
     "name": "stdout",
     "output_type": "stream",
     "text": [
      "Hello this is python programming\n"
     ]
    }
   ],
   "source": [
    "## It reads file\n",
    "Hello = open(\"C:/Users/vinay soni/Downloads/Hello.txt\", \"r\")\n",
    "print(Hello.readline())\n",
    "Hello.close()"
   ]
  },
  {
   "cell_type": "code",
   "execution_count": 8,
   "id": "f93ae270-8852-4c91-8c26-190848941f90",
   "metadata": {},
   "outputs": [
    {
     "name": "stdout",
     "output_type": "stream",
     "text": [
      "25\n"
     ]
    }
   ],
   "source": [
    "## Append mode If the file exists, it adds new content at the end without deleting previous data.\n",
    "## If the file does not exist, it creates a new file.\n",
    "Hello = open(\"C:/Users/vinay soni/Downloads/Txt.txt\", \"a\")\n",
    "print(Hello.write(\"Hello this python example\"))\n",
    "Hello.close()"
   ]
  },
  {
   "cell_type": "code",
   "execution_count": 9,
   "id": "b3bcfc04-703e-41b5-954a-2de3e7d99eb2",
   "metadata": {},
   "outputs": [
    {
     "name": "stdout",
     "output_type": "stream",
     "text": [
      "Hello this python exampleHello this python example\n"
     ]
    }
   ],
   "source": [
    "Hello = open(\"C:/Users/vinay soni/Downloads/Txt.txt\", \"r\")\n",
    "print(Hello.readline())\n",
    "Hello.close()"
   ]
  },
  {
   "cell_type": "code",
   "execution_count": 15,
   "id": "3df1ac96-1d2a-4b70-929a-268a1243e7e9",
   "metadata": {},
   "outputs": [
    {
     "name": "stdout",
     "output_type": "stream",
     "text": [
      "10\n"
     ]
    }
   ],
   "source": [
    "## w(write mode) If the file exists, it overwrites all previous content.\n",
    "## If the file does not exist, it creates a new file.\n",
    "Hello = open(\"C:/Users/vinay soni/Downloads/Gello.txt\", \"w\")\n",
    "print(Hello.write(\"Hello this\"))\n",
    "Hello.close()"
   ]
  },
  {
   "cell_type": "code",
   "execution_count": 14,
   "id": "c46e4f73-1bdc-4734-8e91-21bea13ec4fa",
   "metadata": {},
   "outputs": [
    {
     "name": "stdout",
     "output_type": "stream",
     "text": [
      "Hello this\n"
     ]
    }
   ],
   "source": [
    "Hello = open(\"C:/Users/vinay soni/Downloads/Hello.txt\", \"r\")\n",
    "print(Hello.readline())\n",
    "Hello.close()"
   ]
  },
  {
   "cell_type": "code",
   "execution_count": 17,
   "id": "eb9c372f-4c45-4758-8621-c44aff533a3f",
   "metadata": {},
   "outputs": [
    {
     "name": "stdout",
     "output_type": "stream",
     "text": [
      "18\n"
     ]
    }
   ],
   "source": [
    "## using x we creates new files safely (raises error if already exists)\n",
    "Hello = open(\"C:/Users/vinay soni/Downloads/Tello.txt\", \"x\")\n",
    "print(Hello.write(\"This is based on x\"))\n",
    "Hello.close()"
   ]
  },
  {
   "cell_type": "code",
   "execution_count": 22,
   "id": "b440844f-774a-4b93-a2e1-d89e1920161c",
   "metadata": {},
   "outputs": [],
   "source": [
    "os.remove(\"Txt.txt\")"
   ]
  },
  {
   "cell_type": "code",
   "execution_count": null,
   "id": "5ce355fd-2b21-4a71-95b6-14161f721d0e",
   "metadata": {},
   "outputs": [],
   "source": [
    "import json"
   ]
  },
  {
   "cell_type": "code",
   "execution_count": 23,
   "id": "d185749a-2cc5-44ed-9094-28cdc712c08e",
   "metadata": {},
   "outputs": [
    {
     "name": "stdout",
     "output_type": "stream",
     "text": [
      "{'Name': 'vinay', 'Age': 18}\n"
     ]
    }
   ],
   "source": [
    "json_s='{\"Name\":\"vinay\",\"Age\":18}'\n",
    "ex=json.loads(json_s) ## json.loads() - Converts a JSON string into a Python object\n",
    "print(ex)"
   ]
  },
  {
   "cell_type": "code",
   "execution_count": 19,
   "id": "c1c81317-4045-40da-9559-f6a9a1e31a8e",
   "metadata": {},
   "outputs": [
    {
     "name": "stdout",
     "output_type": "stream",
     "text": [
      "{\n",
      "  \"Name\": \"vinay\",\n",
      "  \"Age\": 18\n",
      "}\n"
     ]
    }
   ],
   "source": [
    "json_s={\"Name\":\"vinay\",\"Age\":18}\n",
    "ex=json.dumps(json_s,indent=2) ## json.dumps() - Converts a Python object into a JSON string\n",
    "print(ex)"
   ]
  },
  {
   "cell_type": "code",
   "execution_count": 29,
   "id": "5d07db6c-a364-439a-ad8f-2de8c754b4f3",
   "metadata": {},
   "outputs": [],
   "source": [
    "import pickle"
   ]
  },
  {
   "cell_type": "code",
   "execution_count": 41,
   "id": "3997ee6e-e981-4131-9fb3-6d13f2adaa09",
   "metadata": {},
   "outputs": [
    {
     "name": "stdout",
     "output_type": "stream",
     "text": [
      "{'Name': 'vinay', 'Age': 18}\n"
     ]
    }
   ],
   "source": [
    "## open(\"multiple.pkl\",\"wb\") → Opens \"multiple.pkl\" in write-binary (wb) mode and instead of multiple we write anything\n",
    "## pickle.dump(Data,g) - Converts (serializes) the dictionary Data into binary format and saves it to \"multiple.pkl\"\n",
    "## with - statement → Ensures that the file is closed properly after writing\n",
    "## open(\"multiple.pkl\",\"rb\") → Opens \"multiple.pkl\" in read-binary (rb) mode\n",
    "## pickle.load(g) → Deserializes (converts back) the binary file into a Python object (dictionary).\n",
    "## The loaded dictionary is stored in s\n",
    "Data={\"Name\":\"vinay\",\"Age\":18}\n",
    "with open(\"mul.pkl\",\"wb\") as g:\n",
    "    pickle.dump(Data,g)\n",
    "with open(\"mul.pkl\",\"rb\") as g:\n",
    "    s=pickle.load(g)\n",
    "print(s)"
   ]
  },
  {
   "cell_type": "code",
   "execution_count": 42,
   "id": "c9a18d37-2f39-4b21-98b8-0120dc4f1296",
   "metadata": {},
   "outputs": [
    {
     "name": "stdout",
     "output_type": "stream",
     "text": [
      "{'Name': 'vinay', 'Age': 18}\n"
     ]
    }
   ],
   "source": [
    "Data={\"Name\":\"vinay\",\"Age\":18}\n",
    "with open(\"d.pkl\",\"wb\") as g:\n",
    "    pickle.dump(Data,g)\n",
    "with open(\"d.pkl\",\"rb\") as g:\n",
    "    s=pickle.load(g)\n",
    "print(s)"
   ]
  },
  {
   "cell_type": "code",
   "execution_count": 46,
   "id": "ab29f948-2c10-46d7-a62e-212614aac00b",
   "metadata": {},
   "outputs": [
    {
     "name": "stdout",
     "output_type": "stream",
     "text": [
      "12\n"
     ]
    }
   ],
   "source": [
    "## This is decorator function and use decorator function we use @ sign\n",
    "def decorator(func):\n",
    "    def wrapped(x,y):\n",
    "        result = func(x,y)\n",
    "        return result*2\n",
    "    return wrapped\n",
    "@decorator\n",
    "def add(a,b):\n",
    "    return a+b\n",
    "print (add(2,4))"
   ]
  },
  {
   "cell_type": "code",
   "execution_count": null,
   "id": "7bf26aba-baba-4180-95be-ebf741a0b48b",
   "metadata": {},
   "outputs": [],
   "source": []
  }
 ],
 "metadata": {
  "kernelspec": {
   "display_name": "Python 3 (ipykernel)",
   "language": "python",
   "name": "python3"
  },
  "language_info": {
   "codemirror_mode": {
    "name": "ipython",
    "version": 3
   },
   "file_extension": ".py",
   "mimetype": "text/x-python",
   "name": "python",
   "nbconvert_exporter": "python",
   "pygments_lexer": "ipython3",
   "version": "3.12.7"
  }
 },
 "nbformat": 4,
 "nbformat_minor": 5
}
