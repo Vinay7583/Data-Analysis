{
 "cells": [
  {
   "cell_type": "code",
   "execution_count": 1,
   "id": "7d73bd33-4099-49a6-88dd-8d12e1a25271",
   "metadata": {},
   "outputs": [
    {
     "name": "stdout",
     "output_type": "stream",
     "text": [
      "Multiply of first 5 is : 10\n"
     ]
    }
   ],
   "source": [
    "## Break statement\n",
    "Block = [1,2,3,10,18,20] ## multiply of first 5\n",
    "for i in Block:\n",
    "    if i%5==0:\n",
    "        print(\"Multiply of first 5 is :\",i) ## we print before break statement beacuse we can not print array we direct print first multiply 5 value\n",
    "        break\n",
    "       \n",
    "   "
   ]
  },
  {
   "cell_type": "code",
   "execution_count": 2,
   "id": "c7ca8520-b8eb-4422-ac09-a6e4dc91d91b",
   "metadata": {},
   "outputs": [
    {
     "name": "stdout",
     "output_type": "stream",
     "text": [
      "odd numbers : 2\n",
      "odd numbers : 10\n",
      "odd numbers : 18\n",
      "odd numbers : 20\n"
     ]
    }
   ],
   "source": [
    "## Continue Statement\n",
    "Block = [1,2,3,10,18,20] ## odd numbers\n",
    "for i in Block:\n",
    "    if i%2==0:\n",
    "        print(\"odd numbers :\",i)\n",
    "        continue"
   ]
  },
  {
   "cell_type": "code",
   "execution_count": 99,
   "id": "45016a9b-5fb4-424f-a8df-84122abe3a65",
   "metadata": {},
   "outputs": [
    {
     "name": "stdout",
     "output_type": "stream",
     "text": [
      "number is : 3\n"
     ]
    }
   ],
   "source": [
    "## Pass Statement\n",
    "for a in range(5): ## Placeholder in a loop where logic will be add later\n",
    "    if a==3:\n",
    "        print(\"number is :\",a)"
   ]
  },
  {
   "cell_type": "code",
   "execution_count": 4,
   "id": "e8cbcc36-3fdd-4db2-9faf-ef00b8a02fbe",
   "metadata": {},
   "outputs": [
    {
     "name": "stdout",
     "output_type": "stream",
     "text": [
      "1\n",
      "2\n",
      "3\n",
      "4\n"
     ]
    }
   ],
   "source": [
    "## break another example\n",
    "for i in range(1,20):\n",
    "    if i%5==0:\n",
    "       break\n",
    "    print(i)\n"
   ]
  }
 ],
 "metadata": {
  "kernelspec": {
   "display_name": "Python 3 (ipykernel)",
   "language": "python",
   "name": "python3"
  },
  "language_info": {
   "codemirror_mode": {
    "name": "ipython",
    "version": 3
   },
   "file_extension": ".py",
   "mimetype": "text/x-python",
   "name": "python",
   "nbconvert_exporter": "python",
   "pygments_lexer": "ipython3",
   "version": "3.12.7"
  }
 },
 "nbformat": 4,
 "nbformat_minor": 5
}
